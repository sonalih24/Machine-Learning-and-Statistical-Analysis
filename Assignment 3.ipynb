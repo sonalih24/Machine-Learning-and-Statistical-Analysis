{
 "cells": [
  {
   "cell_type": "code",
   "execution_count": 22,
   "id": "5888bf7f",
   "metadata": {},
   "outputs": [],
   "source": [
    "# Import the necessary modules\n",
    "import matplotlib.pyplot as plt\n",
    "import pandas as pd\n",
    "import numpy as np\n",
    "import matplotlib.gridspec as gs\n",
    "import seaborn as sns\n",
    "from sklearn import linear_model, datasets\n",
    "import plotly.offline as pyoff\n",
    "import plotly.graph_objs as go\n",
    "from chart_studio import plotly\n",
    "from sklearn.metrics import mean_squared_error, r2_score\n",
    "import plotly.io as pio"
   ]
  },
  {
   "cell_type": "code",
   "execution_count": 23,
   "id": "159bea11",
   "metadata": {},
   "outputs": [],
   "source": [
    "df = pd.read_csv('C:\\\\Users\\\\sonal\\\\OneDrive\\\\Desktop\\\\Education\\\\06 Spring 2022\\\\Comp Sci\\\\Homework\\\\Telco-Customer-Churn.csv')"
   ]
  },
  {
   "cell_type": "code",
   "execution_count": 24,
   "id": "03fde1cc",
   "metadata": {},
   "outputs": [
    {
     "data": {
      "text/html": [
       "<div>\n",
       "<style scoped>\n",
       "    .dataframe tbody tr th:only-of-type {\n",
       "        vertical-align: middle;\n",
       "    }\n",
       "\n",
       "    .dataframe tbody tr th {\n",
       "        vertical-align: top;\n",
       "    }\n",
       "\n",
       "    .dataframe thead th {\n",
       "        text-align: right;\n",
       "    }\n",
       "</style>\n",
       "<table border=\"1\" class=\"dataframe\">\n",
       "  <thead>\n",
       "    <tr style=\"text-align: right;\">\n",
       "      <th></th>\n",
       "      <th>customerID</th>\n",
       "      <th>gender</th>\n",
       "      <th>SeniorCitizen</th>\n",
       "      <th>Partner</th>\n",
       "      <th>Dependents</th>\n",
       "      <th>tenure</th>\n",
       "      <th>PhoneService</th>\n",
       "      <th>MultipleLines</th>\n",
       "      <th>InternetService</th>\n",
       "      <th>OnlineSecurity</th>\n",
       "      <th>...</th>\n",
       "      <th>DeviceProtection</th>\n",
       "      <th>TechSupport</th>\n",
       "      <th>StreamingTV</th>\n",
       "      <th>StreamingMovies</th>\n",
       "      <th>Contract</th>\n",
       "      <th>PaperlessBilling</th>\n",
       "      <th>PaymentMethod</th>\n",
       "      <th>MonthlyCharges</th>\n",
       "      <th>TotalCharges</th>\n",
       "      <th>Churn</th>\n",
       "    </tr>\n",
       "  </thead>\n",
       "  <tbody>\n",
       "    <tr>\n",
       "      <th>0</th>\n",
       "      <td>7590-VHVEG</td>\n",
       "      <td>Female</td>\n",
       "      <td>0</td>\n",
       "      <td>Yes</td>\n",
       "      <td>No</td>\n",
       "      <td>1</td>\n",
       "      <td>No</td>\n",
       "      <td>No phone service</td>\n",
       "      <td>DSL</td>\n",
       "      <td>No</td>\n",
       "      <td>...</td>\n",
       "      <td>No</td>\n",
       "      <td>No</td>\n",
       "      <td>No</td>\n",
       "      <td>No</td>\n",
       "      <td>Month-to-month</td>\n",
       "      <td>Yes</td>\n",
       "      <td>Electronic check</td>\n",
       "      <td>29.85</td>\n",
       "      <td>29.85</td>\n",
       "      <td>No</td>\n",
       "    </tr>\n",
       "    <tr>\n",
       "      <th>4334</th>\n",
       "      <td>3969-GYXEL</td>\n",
       "      <td>Female</td>\n",
       "      <td>0</td>\n",
       "      <td>No</td>\n",
       "      <td>No</td>\n",
       "      <td>11</td>\n",
       "      <td>Yes</td>\n",
       "      <td>No</td>\n",
       "      <td>Fiber optic</td>\n",
       "      <td>Yes</td>\n",
       "      <td>...</td>\n",
       "      <td>No</td>\n",
       "      <td>No</td>\n",
       "      <td>No</td>\n",
       "      <td>No</td>\n",
       "      <td>Month-to-month</td>\n",
       "      <td>No</td>\n",
       "      <td>Electronic check</td>\n",
       "      <td>76.40</td>\n",
       "      <td>838.7</td>\n",
       "      <td>No</td>\n",
       "    </tr>\n",
       "    <tr>\n",
       "      <th>4333</th>\n",
       "      <td>5325-UWTWJ</td>\n",
       "      <td>Male</td>\n",
       "      <td>0</td>\n",
       "      <td>Yes</td>\n",
       "      <td>No</td>\n",
       "      <td>31</td>\n",
       "      <td>Yes</td>\n",
       "      <td>Yes</td>\n",
       "      <td>Fiber optic</td>\n",
       "      <td>Yes</td>\n",
       "      <td>...</td>\n",
       "      <td>No</td>\n",
       "      <td>Yes</td>\n",
       "      <td>No</td>\n",
       "      <td>No</td>\n",
       "      <td>Month-to-month</td>\n",
       "      <td>Yes</td>\n",
       "      <td>Credit card (automatic)</td>\n",
       "      <td>90.55</td>\n",
       "      <td>2929.75</td>\n",
       "      <td>No</td>\n",
       "    </tr>\n",
       "    <tr>\n",
       "      <th>4332</th>\n",
       "      <td>4194-FJARJ</td>\n",
       "      <td>Female</td>\n",
       "      <td>0</td>\n",
       "      <td>Yes</td>\n",
       "      <td>Yes</td>\n",
       "      <td>54</td>\n",
       "      <td>Yes</td>\n",
       "      <td>Yes</td>\n",
       "      <td>DSL</td>\n",
       "      <td>Yes</td>\n",
       "      <td>...</td>\n",
       "      <td>No</td>\n",
       "      <td>Yes</td>\n",
       "      <td>No</td>\n",
       "      <td>No</td>\n",
       "      <td>Two year</td>\n",
       "      <td>No</td>\n",
       "      <td>Bank transfer (automatic)</td>\n",
       "      <td>60.00</td>\n",
       "      <td>3273.95</td>\n",
       "      <td>No</td>\n",
       "    </tr>\n",
       "    <tr>\n",
       "      <th>4331</th>\n",
       "      <td>5743-KHMNA</td>\n",
       "      <td>Male</td>\n",
       "      <td>0</td>\n",
       "      <td>No</td>\n",
       "      <td>No</td>\n",
       "      <td>71</td>\n",
       "      <td>Yes</td>\n",
       "      <td>Yes</td>\n",
       "      <td>No</td>\n",
       "      <td>No internet service</td>\n",
       "      <td>...</td>\n",
       "      <td>No internet service</td>\n",
       "      <td>No internet service</td>\n",
       "      <td>No internet service</td>\n",
       "      <td>No internet service</td>\n",
       "      <td>Two year</td>\n",
       "      <td>No</td>\n",
       "      <td>Bank transfer (automatic)</td>\n",
       "      <td>25.55</td>\n",
       "      <td>1898.1</td>\n",
       "      <td>No</td>\n",
       "    </tr>\n",
       "    <tr>\n",
       "      <th>...</th>\n",
       "      <td>...</td>\n",
       "      <td>...</td>\n",
       "      <td>...</td>\n",
       "      <td>...</td>\n",
       "      <td>...</td>\n",
       "      <td>...</td>\n",
       "      <td>...</td>\n",
       "      <td>...</td>\n",
       "      <td>...</td>\n",
       "      <td>...</td>\n",
       "      <td>...</td>\n",
       "      <td>...</td>\n",
       "      <td>...</td>\n",
       "      <td>...</td>\n",
       "      <td>...</td>\n",
       "      <td>...</td>\n",
       "      <td>...</td>\n",
       "      <td>...</td>\n",
       "      <td>...</td>\n",
       "      <td>...</td>\n",
       "      <td>...</td>\n",
       "    </tr>\n",
       "    <tr>\n",
       "      <th>5441</th>\n",
       "      <td>3512-IZIKN</td>\n",
       "      <td>Female</td>\n",
       "      <td>0</td>\n",
       "      <td>Yes</td>\n",
       "      <td>No</td>\n",
       "      <td>70</td>\n",
       "      <td>Yes</td>\n",
       "      <td>Yes</td>\n",
       "      <td>DSL</td>\n",
       "      <td>Yes</td>\n",
       "      <td>...</td>\n",
       "      <td>Yes</td>\n",
       "      <td>Yes</td>\n",
       "      <td>No</td>\n",
       "      <td>No</td>\n",
       "      <td>Two year</td>\n",
       "      <td>No</td>\n",
       "      <td>Credit card (automatic)</td>\n",
       "      <td>65.30</td>\n",
       "      <td>4759.75</td>\n",
       "      <td>Yes</td>\n",
       "    </tr>\n",
       "    <tr>\n",
       "      <th>1161</th>\n",
       "      <td>5868-CZJDR</td>\n",
       "      <td>Male</td>\n",
       "      <td>0</td>\n",
       "      <td>No</td>\n",
       "      <td>Yes</td>\n",
       "      <td>1</td>\n",
       "      <td>No</td>\n",
       "      <td>No phone service</td>\n",
       "      <td>DSL</td>\n",
       "      <td>No</td>\n",
       "      <td>...</td>\n",
       "      <td>No</td>\n",
       "      <td>No</td>\n",
       "      <td>No</td>\n",
       "      <td>No</td>\n",
       "      <td>Month-to-month</td>\n",
       "      <td>Yes</td>\n",
       "      <td>Mailed check</td>\n",
       "      <td>31.35</td>\n",
       "      <td>31.35</td>\n",
       "      <td>Yes</td>\n",
       "    </tr>\n",
       "    <tr>\n",
       "      <th>1159</th>\n",
       "      <td>4086-YQSNZ</td>\n",
       "      <td>Female</td>\n",
       "      <td>1</td>\n",
       "      <td>Yes</td>\n",
       "      <td>No</td>\n",
       "      <td>3</td>\n",
       "      <td>Yes</td>\n",
       "      <td>No</td>\n",
       "      <td>Fiber optic</td>\n",
       "      <td>No</td>\n",
       "      <td>...</td>\n",
       "      <td>No</td>\n",
       "      <td>No</td>\n",
       "      <td>Yes</td>\n",
       "      <td>No</td>\n",
       "      <td>Month-to-month</td>\n",
       "      <td>Yes</td>\n",
       "      <td>Electronic check</td>\n",
       "      <td>80.40</td>\n",
       "      <td>224.05</td>\n",
       "      <td>Yes</td>\n",
       "    </tr>\n",
       "    <tr>\n",
       "      <th>1163</th>\n",
       "      <td>0135-NMXAP</td>\n",
       "      <td>Female</td>\n",
       "      <td>0</td>\n",
       "      <td>No</td>\n",
       "      <td>No</td>\n",
       "      <td>12</td>\n",
       "      <td>Yes</td>\n",
       "      <td>Yes</td>\n",
       "      <td>Fiber optic</td>\n",
       "      <td>No</td>\n",
       "      <td>...</td>\n",
       "      <td>No</td>\n",
       "      <td>No</td>\n",
       "      <td>Yes</td>\n",
       "      <td>No</td>\n",
       "      <td>Month-to-month</td>\n",
       "      <td>Yes</td>\n",
       "      <td>Bank transfer (automatic)</td>\n",
       "      <td>89.75</td>\n",
       "      <td>1052.4</td>\n",
       "      <td>Yes</td>\n",
       "    </tr>\n",
       "    <tr>\n",
       "      <th>2974</th>\n",
       "      <td>1481-ZUWZA</td>\n",
       "      <td>Male</td>\n",
       "      <td>0</td>\n",
       "      <td>No</td>\n",
       "      <td>No</td>\n",
       "      <td>28</td>\n",
       "      <td>Yes</td>\n",
       "      <td>Yes</td>\n",
       "      <td>Fiber optic</td>\n",
       "      <td>Yes</td>\n",
       "      <td>...</td>\n",
       "      <td>No</td>\n",
       "      <td>No</td>\n",
       "      <td>No</td>\n",
       "      <td>Yes</td>\n",
       "      <td>Month-to-month</td>\n",
       "      <td>Yes</td>\n",
       "      <td>Credit card (automatic)</td>\n",
       "      <td>94.50</td>\n",
       "      <td>2659.4</td>\n",
       "      <td>Yes</td>\n",
       "    </tr>\n",
       "  </tbody>\n",
       "</table>\n",
       "<p>7043 rows × 21 columns</p>\n",
       "</div>"
      ],
      "text/plain": [
       "      customerID  gender  SeniorCitizen Partner Dependents  tenure  \\\n",
       "0     7590-VHVEG  Female              0     Yes         No       1   \n",
       "4334  3969-GYXEL  Female              0      No         No      11   \n",
       "4333  5325-UWTWJ    Male              0     Yes         No      31   \n",
       "4332  4194-FJARJ  Female              0     Yes        Yes      54   \n",
       "4331  5743-KHMNA    Male              0      No         No      71   \n",
       "...          ...     ...            ...     ...        ...     ...   \n",
       "5441  3512-IZIKN  Female              0     Yes         No      70   \n",
       "1161  5868-CZJDR    Male              0      No        Yes       1   \n",
       "1159  4086-YQSNZ  Female              1     Yes         No       3   \n",
       "1163  0135-NMXAP  Female              0      No         No      12   \n",
       "2974  1481-ZUWZA    Male              0      No         No      28   \n",
       "\n",
       "     PhoneService     MultipleLines InternetService       OnlineSecurity  ...  \\\n",
       "0              No  No phone service             DSL                   No  ...   \n",
       "4334          Yes                No     Fiber optic                  Yes  ...   \n",
       "4333          Yes               Yes     Fiber optic                  Yes  ...   \n",
       "4332          Yes               Yes             DSL                  Yes  ...   \n",
       "4331          Yes               Yes              No  No internet service  ...   \n",
       "...           ...               ...             ...                  ...  ...   \n",
       "5441          Yes               Yes             DSL                  Yes  ...   \n",
       "1161           No  No phone service             DSL                   No  ...   \n",
       "1159          Yes                No     Fiber optic                   No  ...   \n",
       "1163          Yes               Yes     Fiber optic                   No  ...   \n",
       "2974          Yes               Yes     Fiber optic                  Yes  ...   \n",
       "\n",
       "         DeviceProtection          TechSupport          StreamingTV  \\\n",
       "0                      No                   No                   No   \n",
       "4334                   No                   No                   No   \n",
       "4333                   No                  Yes                   No   \n",
       "4332                   No                  Yes                   No   \n",
       "4331  No internet service  No internet service  No internet service   \n",
       "...                   ...                  ...                  ...   \n",
       "5441                  Yes                  Yes                   No   \n",
       "1161                   No                   No                   No   \n",
       "1159                   No                   No                  Yes   \n",
       "1163                   No                   No                  Yes   \n",
       "2974                   No                   No                   No   \n",
       "\n",
       "          StreamingMovies        Contract PaperlessBilling  \\\n",
       "0                      No  Month-to-month              Yes   \n",
       "4334                   No  Month-to-month               No   \n",
       "4333                   No  Month-to-month              Yes   \n",
       "4332                   No        Two year               No   \n",
       "4331  No internet service        Two year               No   \n",
       "...                   ...             ...              ...   \n",
       "5441                   No        Two year               No   \n",
       "1161                   No  Month-to-month              Yes   \n",
       "1159                   No  Month-to-month              Yes   \n",
       "1163                   No  Month-to-month              Yes   \n",
       "2974                  Yes  Month-to-month              Yes   \n",
       "\n",
       "                  PaymentMethod MonthlyCharges  TotalCharges Churn  \n",
       "0              Electronic check          29.85         29.85    No  \n",
       "4334           Electronic check          76.40         838.7    No  \n",
       "4333    Credit card (automatic)          90.55       2929.75    No  \n",
       "4332  Bank transfer (automatic)          60.00       3273.95    No  \n",
       "4331  Bank transfer (automatic)          25.55        1898.1    No  \n",
       "...                         ...            ...           ...   ...  \n",
       "5441    Credit card (automatic)          65.30       4759.75   Yes  \n",
       "1161               Mailed check          31.35         31.35   Yes  \n",
       "1159           Electronic check          80.40        224.05   Yes  \n",
       "1163  Bank transfer (automatic)          89.75        1052.4   Yes  \n",
       "2974    Credit card (automatic)          94.50        2659.4   Yes  \n",
       "\n",
       "[7043 rows x 21 columns]"
      ]
     },
     "execution_count": 24,
     "metadata": {},
     "output_type": "execute_result"
    }
   ],
   "source": [
    "df.sort_values(['Churn'])"
   ]
  },
  {
   "cell_type": "code",
   "execution_count": 25,
   "id": "b9c05823",
   "metadata": {},
   "outputs": [
    {
     "data": {
      "image/png": "[encoded data removed]",
      "text/plain": [
       "<Figure size 864x432 with 1 Axes>"
      ]
     },
     "metadata": {},
     "output_type": "display_data"
    }
   ],
   "source": [
    "fig = plt.figure(figsize = (12,6))\n",
    "plt.subplot(132)\n",
    "churn = sns.countplot(x = df['Churn'], palette = ['#091FDE', '#F93411'])\n",
    "churn.set_title('Customer Distribution by Churn', fontsize = 25, fontweight = 'normal')\n",
    "churn.set_xlabel('Churn', fontweight = 'normal', fontsize = 18)\n",
    "churn.set_ylabel('Number of Customers', fontweight = 'normal', fontsize = 18)\n",
    "plt.tight_layout()\n",
    "plt.show()"
   ]
  },
  {
   "cell_type": "code",
   "execution_count": 26,
   "id": "909a6092",
   "metadata": {},
   "outputs": [
    {
     "data": {
      "image/png": "[encoded data removed]",
      "text/plain": [
       "<Figure size 1296x432 with 1 Axes>"
      ]
     },
     "metadata": {},
     "output_type": "display_data"
    }
   ],
   "source": [
    "# Make all column names lowercase\n",
    "df.columns = map(str.lower, df.columns)\n",
    "df.totalcharges = df.totalcharges.replace(\" \", 0)\n",
    "# Change totalcharges type from string to float\n",
    "df.totalcharges = df.totalcharges.astype('float32')\n",
    "df.to_csv('C:\\\\Users\\\\sonal\\\\OneDrive\\\\Desktop\\\\Education\\\\06 Spring 2022\\\\Comp Sci\\\\Homework\\\\Adjusted-Telco-Customer-Churn.csv')\n",
    "# Creating the graph\n",
    "sns.set(style = 'whitegrid')\n",
    "sns.set_context('paper', font_scale = 1.4)\n",
    "fig = plt.figure(figsize = (18,6))\n",
    "plt.subplot(132)\n",
    "contract = sns.countplot(data = df, x = 'contract', hue = 'churn', palette = ['#091FDE','#F93411'])\n",
    "contract.set_title('Customer Churn per Contract Length', fontsize = 25, fontweight = 'normal')\n",
    "contract.set_xlabel('Contract Length', fontweight = 'normal', fontsize = 18)\n",
    "contract.set_ylabel('Number of Customers', fontweight = 'normal', fontsize = 18)\n",
    "plt.tight_layout()\n",
    "plt.show()"
   ]
  },
  {
   "cell_type": "code",
   "execution_count": 27,
   "id": "70347460",
   "metadata": {},
   "outputs": [
    {
     "data": {
      "image/png": "[encoded data removed]",
      "text/plain": [
       "<Figure size 864x432 with 1 Axes>"
      ]
     },
     "metadata": {},
     "output_type": "display_data"
    }
   ],
   "source": [
    "# Make all column names lowercase\n",
    "df.columns = map(str.lower, df.columns)\n",
    "df.totalcharges = df.totalcharges.replace(\" \", 0)\n",
    "# Change totalcharges type from string to float\n",
    "df.totalcharges = df.totalcharges.astype('float32')\n",
    "df.to_csv('C:\\\\Users\\\\sonal\\\\OneDrive\\\\Desktop\\\\Education\\\\06 Spring 2022\\\\Comp Sci\\\\Homework\\\\Adjusted-Telco-Customer-Churn.csv')\n",
    "# Creating the graph\n",
    "sns.set(style = 'whitegrid')\n",
    "sns.set_context('paper', font_scale = 1)\n",
    "plt.figure(figsize = (12,6))\n",
    "plt.title(f'Churn Density per Monthly Costs in Dollars', fontsize = 25, fontweight = 'normal')\n",
    "monthlyCost = sns.kdeplot(df[df.churn =='No']['monthlycharges'].dropna(), color = 'blue')\n",
    "monthlyCost1 = sns.kdeplot(df[df.churn =='Yes']['monthlycharges'].dropna(), color = 'red')\n",
    "plt.legend(labels = ['No Churn', 'Churn'])\n",
    "plt.xlabel('Monthly Charges in Dollars', fontsize = 18, fontweight = 'normal')\n",
    "plt.tight_layout()\n",
    "plt.show()"
   ]
  },
  {
   "cell_type": "code",
   "execution_count": 28,
   "id": "d29c8d48",
   "metadata": {},
   "outputs": [
    {
     "data": {
      "image/png": "[encoded data removed]",
      "text/plain": [
       "<Figure size 864x432 with 1 Axes>"
      ]
     },
     "metadata": {},
     "output_type": "display_data"
    }
   ],
   "source": [
    "# Make all column names lowercase\n",
    "df.columns = map(str.lower, df.columns)\n",
    "df.totalcharges = df.totalcharges.replace(\" \", 0)\n",
    "# Change totalcharges type from string to float\n",
    "df.totalcharges = df.totalcharges.astype('float32')\n",
    "df.to_csv('C:\\\\Users\\\\sonal\\\\OneDrive\\\\Desktop\\\\Education\\\\06 Spring 2022\\\\Comp Sci\\\\Homework\\\\Adjusted-Telco-Customer-Churn.csv')\n",
    "# Creating the graph\n",
    "sns.set(style = 'whitegrid')\n",
    "sns.set_context('paper', font_scale = 1)\n",
    "plt.figure(figsize = (12,6))\n",
    "plt.title(f'Churn Density per Tenure in Months', fontsize = 25, fontweight = 'normal')\n",
    "tenure = sns.kdeplot(df[df.churn =='No']['tenure'].dropna(), color = 'blue')\n",
    "tenure1 = sns.kdeplot(df[df.churn =='Yes']['tenure'].dropna(), color = 'red')\n",
    "plt.legend(labels = ['No Churn', 'Churn'])\n",
    "plt.xlabel('Tenure Length in Months', fontsize = 18, fontweight = 'normal')\n",
    "plt.tight_layout()\n",
    "plt.show()"
   ]
  },
  {
   "cell_type": "code",
   "execution_count": 42,
   "id": "5aab13a7",
   "metadata": {},
   "outputs": [
    {
     "data": {
      "application/vnd.plotly.v1+json": {
       "config": {
        "plotlyServerURL": "https://plot.ly"
       },
       "data": [
        {
         "marker": {
          "color": "red",
          "line": {
           "width": 1
          },
          "opacity": 0.8,
          "size": 7
         },
         "mode": "markers",
         "name": "Low",
         "type": "scatter",
         "x": [
          0,
          1,
          2,
          3,
          4,
          5,
          6,
          7,
          8,
          9,
          10,
          11,
          12,
          13,
          14,
          15,
          16,
          17,
          18,
          19,
          20,
          21,
          22,
          23,
          24,
          25,
          26,
          27,
          28,
          29,
          30,
          31,
          32,
          33,
          34,
          35,
          36,
          37,
          38,
          39,
          40,
          41,
          42,
          43,
          44,
          45,
          46,
          47,
          48,
          49,
          50,
          51,
          52,
          53,
          54,
          55,
          56,
          57,
          58,
          59,
          60,
          61,
          62,
          63,
          64,
          65,
          66,
          67,
          68,
          69,
          70,
          71,
          72
         ],
         "y": [
          0,
          0.6199021207177814,
          0.5168067226890757,
          0.47,
          0.4715909090909091,
          0.48120300751879697,
          0.36363636363636365,
          0.3893129770992366,
          0.34146341463414637,
          0.3865546218487395,
          0.3879310344827586,
          0.31313131313131315,
          0.3247863247863248,
          0.3486238532110092,
          0.3157894736842105,
          0.37373737373737376,
          0.35,
          0.2988505747126437,
          0.24742268041237114,
          0.2602739726027397,
          0.2535211267605634,
          0.2698412698412698,
          0.3,
          0.15294117647058825,
          0.24468085106382978,
          0.2911392405063291,
          0.189873417721519,
          0.18055555555555555,
          0.21052631578947367,
          0.20833333333333334,
          0.2222222222222222,
          0.24615384615384617,
          0.2753623188405797,
          0.21875,
          0.18461538461538463,
          0.17045454545454544,
          0.2,
          0.23076923076923078,
          0.22033898305084745,
          0.25,
          0.203125,
          0.2,
          0.2153846153846154,
          0.23076923076923078,
          0.11764705882352941,
          0.09836065573770492,
          0.16216216216216217,
          0.20588235294117646,
          0.140625,
          0.22727272727272727,
          0.14705882352941177,
          0.11764705882352941,
          0.1,
          0.2,
          0.19117647058823528,
          0.140625,
          0.125,
          0.12307692307692308,
          0.16417910447761194,
          0.13333333333333333,
          0.07894736842105263,
          0.10526315789473684,
          0.07142857142857142,
          0.05555555555555555,
          0.05,
          0.11842105263157894,
          0.14606741573033707,
          0.10204081632653061,
          0.09,
          0.08421052631578947,
          0.09243697478991597,
          0.03529411764705882,
          0.016574585635359115
         ]
        }
       ],
       "layout": {
        "paper_bgcolor": "rgb(243,243,243)",
        "plot_bgcolor": "rgb(243,243,243)",
        "template": {
         "data": {
          "bar": [
           {
            "error_x": {
             "color": "#2a3f5f"
            },
            "error_y": {
             "color": "#2a3f5f"
            },
            "marker": {
             "line": {
              "color": "#E5ECF6",
              "width": 0.5
             },
             "pattern": {
              "fillmode": "overlay",
              "size": 10,
              "solidity": 0.2
             }
            },
            "type": "bar"
           }
          ],
          "barpolar": [
           {
            "marker": {
             "line": {
              "color": "#E5ECF6",
              "width": 0.5
             },
             "pattern": {
              "fillmode": "overlay",
              "size": 10,
              "solidity": 0.2
             }
            },
            "type": "barpolar"
           }
          ],
          "carpet": [
           {
            "aaxis": {
             "endlinecolor": "#2a3f5f",
             "gridcolor": "white",
             "linecolor": "white",
             "minorgridcolor": "white",
             "startlinecolor": "#2a3f5f"
            },
            "baxis": {
             "endlinecolor": "#2a3f5f",
             "gridcolor": "white",
             "linecolor": "white",
             "minorgridcolor": "white",
             "startlinecolor": "#2a3f5f"
            },
            "type": "carpet"
           }
          ],
          "choropleth": [
           {
            "colorbar": {
             "outlinewidth": 0,
             "ticks": ""
            },
            "type": "choropleth"
           }
          ],
          "contour": [
           {
            "colorbar": {
             "outlinewidth": 0,
             "ticks": ""
            },
            "colorscale": [
             [
              0,
              "#0d0887"
             ],
             [
              0.1111111111111111,
              "#46039f"
             ],
             [
              0.2222222222222222,
              "#7201a8"
             ],
             [
              0.3333333333333333,
              "#9c179e"
             ],
             [
              0.4444444444444444,
              "#bd3786"
             ],
             [
              0.5555555555555556,
              "#d8576b"
             ],
             [
              0.6666666666666666,
              "#ed7953"
             ],
             [
              0.7777777777777778,
              "#fb9f3a"
             ],
             [
              0.8888888888888888,
              "#fdca26"
             ],
             [
              1,
              "#f0f921"
             ]
            ],
            "type": "contour"
           }
          ],
          "contourcarpet": [
           {
            "colorbar": {
             "outlinewidth": 0,
             "ticks": ""
            },
            "type": "contourcarpet"
           }
          ],
          "heatmap": [
           {
            "colorbar": {
             "outlinewidth": 0,
             "ticks": ""
            },
            "colorscale": [
             [
              0,
              "#0d0887"
             ],
             [
              0.1111111111111111,
              "#46039f"
             ],
             [
              0.2222222222222222,
              "#7201a8"
             ],
             [
              0.3333333333333333,
              "#9c179e"
             ],
             [
              0.4444444444444444,
              "#bd3786"
             ],
             [
              0.5555555555555556,
              "#d8576b"
             ],
             [
              0.6666666666666666,
              "#ed7953"
             ],
             [
              0.7777777777777778,
              "#fb9f3a"
             ],
             [
              0.8888888888888888,
              "#fdca26"
             ],
             [
              1,
              "#f0f921"
             ]
            ],
            "type": "heatmap"
           }
          ],
          "heatmapgl": [
           {
            "colorbar": {
             "outlinewidth": 0,
             "ticks": ""
            },
            "colorscale": [
             [
              0,
              "#0d0887"
             ],
             [
              0.1111111111111111,
              "#46039f"
             ],
             [
              0.2222222222222222,
              "#7201a8"
             ],
             [
              0.3333333333333333,
              "#9c179e"
             ],
             [
              0.4444444444444444,
              "#bd3786"
             ],
             [
              0.5555555555555556,
              "#d8576b"
             ],
             [
              0.6666666666666666,
              "#ed7953"
             ],
             [
              0.7777777777777778,
              "#fb9f3a"
             ],
             [
              0.8888888888888888,
              "#fdca26"
             ],
             [
              1,
              "#f0f921"
             ]
            ],
            "type": "heatmapgl"
           }
          ],
          "histogram": [
           {
            "marker": {
             "pattern": {
              "fillmode": "overlay",
              "size": 10,
              "solidity": 0.2
             }
            },
            "type": "histogram"
           }
          ],
          "histogram2d": [
           {
            "colorbar": {
             "outlinewidth": 0,
             "ticks": ""
            },
            "colorscale": [
             [
              0,
              "#0d0887"
             ],
             [
              0.1111111111111111,
              "#46039f"
             ],
             [
              0.2222222222222222,
              "#7201a8"
             ],
             [
              0.3333333333333333,
              "#9c179e"
             ],
             [
              0.4444444444444444,
              "#bd3786"
             ],
             [
              0.5555555555555556,
              "#d8576b"
             ],
             [
              0.6666666666666666,
              "#ed7953"
             ],
             [
              0.7777777777777778,
              "#fb9f3a"
             ],
             [
              0.8888888888888888,
              "#fdca26"
             ],
             [
              1,
              "#f0f921"
             ]
            ],
            "type": "histogram2d"
           }
          ],
          "histogram2dcontour": [
           {
            "colorbar": {
             "outlinewidth": 0,
             "ticks": ""
            },
            "colorscale": [
             [
              0,
              "#0d0887"
             ],
             [
              0.1111111111111111,
              "#46039f"
             ],
             [
              0.2222222222222222,
              "#7201a8"
             ],
             [
              0.3333333333333333,
              "#9c179e"
             ],
             [
              0.4444444444444444,
              "#bd3786"
             ],
             [
              0.5555555555555556,
              "#d8576b"
             ],
             [
              0.6666666666666666,
              "#ed7953"
             ],
             [
              0.7777777777777778,
              "#fb9f3a"
             ],
             [
              0.8888888888888888,
              "#fdca26"
             ],
             [
              1,
              "#f0f921"
             ]
            ],
            "type": "histogram2dcontour"
           }
          ],
          "mesh3d": [
           {
            "colorbar": {
             "outlinewidth": 0,
             "ticks": ""
            },
            "type": "mesh3d"
           }
          ],
          "parcoords": [
           {
            "line": {
             "colorbar": {
              "outlinewidth": 0,
              "ticks": ""
             }
            },
            "type": "parcoords"
           }
          ],
          "pie": [
           {
            "automargin": true,
            "type": "pie"
           }
          ],
          "scatter": [
           {
            "fillpattern": {
             "fillmode": "overlay",
             "size": 10,
             "solidity": 0.2
            },
            "type": "scatter"
           }
          ],
          "scatter3d": [
           {
            "line": {
             "colorbar": {
              "outlinewidth": 0,
              "ticks": ""
             }
            },
            "marker": {
             "colorbar": {
              "outlinewidth": 0,
              "ticks": ""
             }
            },
            "type": "scatter3d"
           }
          ],
          "scattercarpet": [
           {
            "marker": {
             "colorbar": {
              "outlinewidth": 0,
              "ticks": ""
             }
            },
            "type": "scattercarpet"
           }
          ],
          "scattergeo": [
           {
            "marker": {
             "colorbar": {
              "outlinewidth": 0,
              "ticks": ""
             }
            },
            "type": "scattergeo"
           }
          ],
          "scattergl": [
           {
            "marker": {
             "colorbar": {
              "outlinewidth": 0,
              "ticks": ""
             }
            },
            "type": "scattergl"
           }
          ],
          "scattermapbox": [
           {
            "marker": {
             "colorbar": {
              "outlinewidth": 0,
              "ticks": ""
             }
            },
            "type": "scattermapbox"
           }
          ],
          "scatterpolar": [
           {
            "marker": {
             "colorbar": {
              "outlinewidth": 0,
              "ticks": ""
             }
            },
            "type": "scatterpolar"
           }
          ],
          "scatterpolargl": [
           {
            "marker": {
             "colorbar": {
              "outlinewidth": 0,
              "ticks": ""
             }
            },
            "type": "scatterpolargl"
           }
          ],
          "scatterternary": [
           {
            "marker": {
             "colorbar": {
              "outlinewidth": 0,
              "ticks": ""
             }
            },
            "type": "scatterternary"
           }
          ],
          "surface": [
           {
            "colorbar": {
             "outlinewidth": 0,
             "ticks": ""
            },
            "colorscale": [
             [
              0,
              "#0d0887"
             ],
             [
              0.1111111111111111,
              "#46039f"
             ],
             [
              0.2222222222222222,
              "#7201a8"
             ],
             [
              0.3333333333333333,
              "#9c179e"
             ],
             [
              0.4444444444444444,
              "#bd3786"
             ],
             [
              0.5555555555555556,
              "#d8576b"
             ],
             [
              0.6666666666666666,
              "#ed7953"
             ],
             [
              0.7777777777777778,
              "#fb9f3a"
             ],
             [
              0.8888888888888888,
              "#fdca26"
             ],
             [
              1,
              "#f0f921"
             ]
            ],
            "type": "surface"
           }
          ],
          "table": [
           {
            "cells": {
             "fill": {
              "color": "#EBF0F8"
             },
             "line": {
              "color": "white"
             }
            },
            "header": {
             "fill": {
              "color": "#C8D4E3"
             },
             "line": {
              "color": "white"
             }
            },
            "type": "table"
           }
          ]
         },
         "layout": {
          "annotationdefaults": {
           "arrowcolor": "#2a3f5f",
           "arrowhead": 0,
           "arrowwidth": 1
          },
          "autotypenumbers": "strict",
          "coloraxis": {
           "colorbar": {
            "outlinewidth": 0,
            "ticks": ""
           }
          },
          "colorscale": {
           "diverging": [
            [
             0,
             "#8e0152"
            ],
            [
             0.1,
             "#c51b7d"
            ],
            [
             0.2,
             "#de77ae"
            ],
            [
             0.3,
             "#f1b6da"
            ],
            [
             0.4,
             "#fde0ef"
            ],
            [
             0.5,
             "#f7f7f7"
            ],
            [
             0.6,
             "#e6f5d0"
            ],
            [
             0.7,
             "#b8e186"
            ],
            [
             0.8,
             "#7fbc41"
            ],
            [
             0.9,
             "#4d9221"
            ],
            [
             1,
             "#276419"
            ]
           ],
           "sequential": [
            [
             0,
             "#0d0887"
            ],
            [
             0.1111111111111111,
             "#46039f"
            ],
            [
             0.2222222222222222,
             "#7201a8"
            ],
            [
             0.3333333333333333,
             "#9c179e"
            ],
            [
             0.4444444444444444,
             "#bd3786"
            ],
            [
             0.5555555555555556,
             "#d8576b"
            ],
            [
             0.6666666666666666,
             "#ed7953"
            ],
            [
             0.7777777777777778,
             "#fb9f3a"
            ],
            [
             0.8888888888888888,
             "#fdca26"
            ],
            [
             1,
             "#f0f921"
            ]
           ],
           "sequentialminus": [
            [
             0,
             "#0d0887"
            ],
            [
             0.1111111111111111,
             "#46039f"
            ],
            [
             0.2222222222222222,
             "#7201a8"
            ],
            [
             0.3333333333333333,
             "#9c179e"
            ],
            [
             0.4444444444444444,
             "#bd3786"
            ],
            [
             0.5555555555555556,
             "#d8576b"
            ],
            [
             0.6666666666666666,
             "#ed7953"
            ],
            [
             0.7777777777777778,
             "#fb9f3a"
            ],
            [
             0.8888888888888888,
             "#fdca26"
            ],
            [
             1,
             "#f0f921"
            ]
           ]
          },
          "colorway": [
           "#636efa",
           "#EF553B",
           "#00cc96",
           "#ab63fa",
           "#FFA15A",
           "#19d3f3",
           "#FF6692",
           "#B6E880",
           "#FF97FF",
           "#FECB52"
          ],
          "font": {
           "color": "#2a3f5f"
          },
          "geo": {
           "bgcolor": "white",
           "lakecolor": "white",
           "landcolor": "#E5ECF6",
           "showlakes": true,
           "showland": true,
           "subunitcolor": "white"
          },
          "hoverlabel": {
           "align": "left"
          },
          "hovermode": "closest",
          "mapbox": {
           "style": "light"
          },
          "paper_bgcolor": "white",
          "plot_bgcolor": "#E5ECF6",
          "polar": {
           "angularaxis": {
            "gridcolor": "white",
            "linecolor": "white",
            "ticks": ""
           },
           "bgcolor": "#E5ECF6",
           "radialaxis": {
            "gridcolor": "white",
            "linecolor": "white",
            "ticks": ""
           }
          },
          "scene": {
           "xaxis": {
            "backgroundcolor": "#E5ECF6",
            "gridcolor": "white",
            "gridwidth": 2,
            "linecolor": "white",
            "showbackground": true,
            "ticks": "",
            "zerolinecolor": "white"
           },
           "yaxis": {
            "backgroundcolor": "#E5ECF6",
            "gridcolor": "white",
            "gridwidth": 2,
            "linecolor": "white",
            "showbackground": true,
            "ticks": "",
            "zerolinecolor": "white"
           },
           "zaxis": {
            "backgroundcolor": "#E5ECF6",
            "gridcolor": "white",
            "gridwidth": 2,
            "linecolor": "white",
            "showbackground": true,
            "ticks": "",
            "zerolinecolor": "white"
           }
          },
          "shapedefaults": {
           "line": {
            "color": "#2a3f5f"
           }
          },
          "ternary": {
           "aaxis": {
            "gridcolor": "white",
            "linecolor": "white",
            "ticks": ""
           },
           "baxis": {
            "gridcolor": "white",
            "linecolor": "white",
            "ticks": ""
           },
           "bgcolor": "#E5ECF6",
           "caxis": {
            "gridcolor": "white",
            "linecolor": "white",
            "ticks": ""
           }
          },
          "title": {
           "x": 0.05
          },
          "xaxis": {
           "automargin": true,
           "gridcolor": "white",
           "linecolor": "white",
           "ticks": "",
           "title": {
            "standoff": 15
           },
           "zerolinecolor": "white",
           "zerolinewidth": 2
          },
          "yaxis": {
           "automargin": true,
           "gridcolor": "white",
           "linecolor": "white",
           "ticks": "",
           "title": {
            "standoff": 15
           },
           "zerolinecolor": "white",
           "zerolinewidth": 2
          }
         }
        },
        "title": {
         "text": "Churn Likelihood per Tenure in Months"
        },
        "xaxis": {
         "title": {
          "text": "Tenure in Months"
         }
        },
        "yaxis": {
         "title": {
          "text": "Churn Likelihood"
         }
        }
       }
      },
      "text/html": [
       "<div>                            <div id=\"1443e0bd-4a92-4d18-bb08-53b834fed167\" class=\"plotly-graph-div\" style=\"height:525px; width:100%;\"></div>            <script type=\"text/javascript\">                require([\"plotly\"], function(Plotly) {                    window.PLOTLYENV=window.PLOTLYENV || {};                                    if (document.getElementById(\"1443e0bd-4a92-4d18-bb08-53b834fed167\")) {                    Plotly.newPlot(                        \"1443e0bd-4a92-4d18-bb08-53b834fed167\",                        [{\"marker\":{\"color\":\"red\",\"line\":{\"width\":1},\"opacity\":0.8,\"size\":7},\"mode\":\"markers\",\"name\":\"Low\",\"x\":[0,1,2,3,4,5,6,7,8,9,10,11,12,13,14,15,16,17,18,19,20,21,22,23,24,25,26,27,28,29,30,31,32,33,34,35,36,37,38,39,40,41,42,43,44,45,46,47,48,49,50,51,52,53,54,55,56,57,58,59,60,61,62,63,64,65,66,67,68,69,70,71,72],\"y\":[0.0,0.6199021207177814,0.5168067226890757,0.47,0.4715909090909091,0.48120300751879697,0.36363636363636365,0.3893129770992366,0.34146341463414637,0.3865546218487395,0.3879310344827586,0.31313131313131315,0.3247863247863248,0.3486238532110092,0.3157894736842105,0.37373737373737376,0.35,0.2988505747126437,0.24742268041237114,0.2602739726027397,0.2535211267605634,0.2698412698412698,0.3,0.15294117647058825,0.24468085106382978,0.2911392405063291,0.189873417721519,0.18055555555555555,0.21052631578947367,0.20833333333333334,0.2222222222222222,0.24615384615384617,0.2753623188405797,0.21875,0.18461538461538463,0.17045454545454544,0.2,0.23076923076923078,0.22033898305084745,0.25,0.203125,0.2,0.2153846153846154,0.23076923076923078,0.11764705882352941,0.09836065573770492,0.16216216216216217,0.20588235294117646,0.140625,0.22727272727272727,0.14705882352941177,0.11764705882352941,0.1,0.2,0.19117647058823528,0.140625,0.125,0.12307692307692308,0.16417910447761194,0.13333333333333333,0.07894736842105263,0.10526315789473684,0.07142857142857142,0.05555555555555555,0.05,0.11842105263157894,0.14606741573033707,0.10204081632653061,0.09,0.08421052631578947,0.09243697478991597,0.03529411764705882,0.016574585635359115],\"type\":\"scatter\"}],                        {\"paper_bgcolor\":\"rgb(243,243,243)\",\"plot_bgcolor\":\"rgb(243,243,243)\",\"title\":{\"text\":\"Churn Likelihood per Tenure in Months\"},\"xaxis\":{\"title\":{\"text\":\"Tenure in Months\"}},\"yaxis\":{\"title\":{\"text\":\"Churn Likelihood\"}},\"template\":{\"data\":{\"histogram2dcontour\":[{\"type\":\"histogram2dcontour\",\"colorbar\":{\"outlinewidth\":0,\"ticks\":\"\"},\"colorscale\":[[0.0,\"#0d0887\"],[0.1111111111111111,\"#46039f\"],[0.2222222222222222,\"#7201a8\"],[0.3333333333333333,\"#9c179e\"],[0.4444444444444444,\"#bd3786\"],[0.5555555555555556,\"#d8576b\"],[0.6666666666666666,\"#ed7953\"],[0.7777777777777778,\"#fb9f3a\"],[0.8888888888888888,\"#fdca26\"],[1.0,\"#f0f921\"]]}],\"choropleth\":[{\"type\":\"choropleth\",\"colorbar\":{\"outlinewidth\":0,\"ticks\":\"\"}}],\"histogram2d\":[{\"type\":\"histogram2d\",\"colorbar\":{\"outlinewidth\":0,\"ticks\":\"\"},\"colorscale\":[[0.0,\"#0d0887\"],[0.1111111111111111,\"#46039f\"],[0.2222222222222222,\"#7201a8\"],[0.3333333333333333,\"#9c179e\"],[0.4444444444444444,\"#bd3786\"],[0.5555555555555556,\"#d8576b\"],[0.6666666666666666,\"#ed7953\"],[0.7777777777777778,\"#fb9f3a\"],[0.8888888888888888,\"#fdca26\"],[1.0,\"#f0f921\"]]}],\"heatmap\":[{\"type\":\"heatmap\",\"colorbar\":{\"outlinewidth\":0,\"ticks\":\"\"},\"colorscale\":[[0.0,\"#0d0887\"],[0.1111111111111111,\"#46039f\"],[0.2222222222222222,\"#7201a8\"],[0.3333333333333333,\"#9c179e\"],[0.4444444444444444,\"#bd3786\"],[0.5555555555555556,\"#d8576b\"],[0.6666666666666666,\"#ed7953\"],[0.7777777777777778,\"#fb9f3a\"],[0.8888888888888888,\"#fdca26\"],[1.0,\"#f0f921\"]]}],\"heatmapgl\":[{\"type\":\"heatmapgl\",\"colorbar\":{\"outlinewidth\":0,\"ticks\":\"\"},\"colorscale\":[[0.0,\"#0d0887\"],[0.1111111111111111,\"#46039f\"],[0.2222222222222222,\"#7201a8\"],[0.3333333333333333,\"#9c179e\"],[0.4444444444444444,\"#bd3786\"],[0.5555555555555556,\"#d8576b\"],[0.6666666666666666,\"#ed7953\"],[0.7777777777777778,\"#fb9f3a\"],[0.8888888888888888,\"#fdca26\"],[1.0,\"#f0f921\"]]}],\"contourcarpet\":[{\"type\":\"contourcarpet\",\"colorbar\":{\"outlinewidth\":0,\"ticks\":\"\"}}],\"contour\":[{\"type\":\"contour\",\"colorbar\":{\"outlinewidth\":0,\"ticks\":\"\"},\"colorscale\":[[0.0,\"#0d0887\"],[0.1111111111111111,\"#46039f\"],[0.2222222222222222,\"#7201a8\"],[0.3333333333333333,\"#9c179e\"],[0.4444444444444444,\"#bd3786\"],[0.5555555555555556,\"#d8576b\"],[0.6666666666666666,\"#ed7953\"],[0.7777777777777778,\"#fb9f3a\"],[0.8888888888888888,\"#fdca26\"],[1.0,\"#f0f921\"]]}],\"surface\":[{\"type\":\"surface\",\"colorbar\":{\"outlinewidth\":0,\"ticks\":\"\"},\"colorscale\":[[0.0,\"#0d0887\"],[0.1111111111111111,\"#46039f\"],[0.2222222222222222,\"#7201a8\"],[0.3333333333333333,\"#9c179e\"],[0.4444444444444444,\"#bd3786\"],[0.5555555555555556,\"#d8576b\"],[0.6666666666666666,\"#ed7953\"],[0.7777777777777778,\"#fb9f3a\"],[0.8888888888888888,\"#fdca26\"],[1.0,\"#f0f921\"]]}],\"mesh3d\":[{\"type\":\"mesh3d\",\"colorbar\":{\"outlinewidth\":0,\"ticks\":\"\"}}],\"scatter\":[{\"fillpattern\":{\"fillmode\":\"overlay\",\"size\":10,\"solidity\":0.2},\"type\":\"scatter\"}],\"parcoords\":[{\"type\":\"parcoords\",\"line\":{\"colorbar\":{\"outlinewidth\":0,\"ticks\":\"\"}}}],\"scatterpolargl\":[{\"type\":\"scatterpolargl\",\"marker\":{\"colorbar\":{\"outlinewidth\":0,\"ticks\":\"\"}}}],\"bar\":[{\"error_x\":{\"color\":\"#2a3f5f\"},\"error_y\":{\"color\":\"#2a3f5f\"},\"marker\":{\"line\":{\"color\":\"#E5ECF6\",\"width\":0.5},\"pattern\":{\"fillmode\":\"overlay\",\"size\":10,\"solidity\":0.2}},\"type\":\"bar\"}],\"scattergeo\":[{\"type\":\"scattergeo\",\"marker\":{\"colorbar\":{\"outlinewidth\":0,\"ticks\":\"\"}}}],\"scatterpolar\":[{\"type\":\"scatterpolar\",\"marker\":{\"colorbar\":{\"outlinewidth\":0,\"ticks\":\"\"}}}],\"histogram\":[{\"marker\":{\"pattern\":{\"fillmode\":\"overlay\",\"size\":10,\"solidity\":0.2}},\"type\":\"histogram\"}],\"scattergl\":[{\"type\":\"scattergl\",\"marker\":{\"colorbar\":{\"outlinewidth\":0,\"ticks\":\"\"}}}],\"scatter3d\":[{\"type\":\"scatter3d\",\"line\":{\"colorbar\":{\"outlinewidth\":0,\"ticks\":\"\"}},\"marker\":{\"colorbar\":{\"outlinewidth\":0,\"ticks\":\"\"}}}],\"scattermapbox\":[{\"type\":\"scattermapbox\",\"marker\":{\"colorbar\":{\"outlinewidth\":0,\"ticks\":\"\"}}}],\"scatterternary\":[{\"type\":\"scatterternary\",\"marker\":{\"colorbar\":{\"outlinewidth\":0,\"ticks\":\"\"}}}],\"scattercarpet\":[{\"type\":\"scattercarpet\",\"marker\":{\"colorbar\":{\"outlinewidth\":0,\"ticks\":\"\"}}}],\"carpet\":[{\"aaxis\":{\"endlinecolor\":\"#2a3f5f\",\"gridcolor\":\"white\",\"linecolor\":\"white\",\"minorgridcolor\":\"white\",\"startlinecolor\":\"#2a3f5f\"},\"baxis\":{\"endlinecolor\":\"#2a3f5f\",\"gridcolor\":\"white\",\"linecolor\":\"white\",\"minorgridcolor\":\"white\",\"startlinecolor\":\"#2a3f5f\"},\"type\":\"carpet\"}],\"table\":[{\"cells\":{\"fill\":{\"color\":\"#EBF0F8\"},\"line\":{\"color\":\"white\"}},\"header\":{\"fill\":{\"color\":\"#C8D4E3\"},\"line\":{\"color\":\"white\"}},\"type\":\"table\"}],\"barpolar\":[{\"marker\":{\"line\":{\"color\":\"#E5ECF6\",\"width\":0.5},\"pattern\":{\"fillmode\":\"overlay\",\"size\":10,\"solidity\":0.2}},\"type\":\"barpolar\"}],\"pie\":[{\"automargin\":true,\"type\":\"pie\"}]},\"layout\":{\"autotypenumbers\":\"strict\",\"colorway\":[\"#636efa\",\"#EF553B\",\"#00cc96\",\"#ab63fa\",\"#FFA15A\",\"#19d3f3\",\"#FF6692\",\"#B6E880\",\"#FF97FF\",\"#FECB52\"],\"font\":{\"color\":\"#2a3f5f\"},\"hovermode\":\"closest\",\"hoverlabel\":{\"align\":\"left\"},\"paper_bgcolor\":\"white\",\"plot_bgcolor\":\"#E5ECF6\",\"polar\":{\"bgcolor\":\"#E5ECF6\",\"angularaxis\":{\"gridcolor\":\"white\",\"linecolor\":\"white\",\"ticks\":\"\"},\"radialaxis\":{\"gridcolor\":\"white\",\"linecolor\":\"white\",\"ticks\":\"\"}},\"ternary\":{\"bgcolor\":\"#E5ECF6\",\"aaxis\":{\"gridcolor\":\"white\",\"linecolor\":\"white\",\"ticks\":\"\"},\"baxis\":{\"gridcolor\":\"white\",\"linecolor\":\"white\",\"ticks\":\"\"},\"caxis\":{\"gridcolor\":\"white\",\"linecolor\":\"white\",\"ticks\":\"\"}},\"coloraxis\":{\"colorbar\":{\"outlinewidth\":0,\"ticks\":\"\"}},\"colorscale\":{\"sequential\":[[0.0,\"#0d0887\"],[0.1111111111111111,\"#46039f\"],[0.2222222222222222,\"#7201a8\"],[0.3333333333333333,\"#9c179e\"],[0.4444444444444444,\"#bd3786\"],[0.5555555555555556,\"#d8576b\"],[0.6666666666666666,\"#ed7953\"],[0.7777777777777778,\"#fb9f3a\"],[0.8888888888888888,\"#fdca26\"],[1.0,\"#f0f921\"]],\"sequentialminus\":[[0.0,\"#0d0887\"],[0.1111111111111111,\"#46039f\"],[0.2222222222222222,\"#7201a8\"],[0.3333333333333333,\"#9c179e\"],[0.4444444444444444,\"#bd3786\"],[0.5555555555555556,\"#d8576b\"],[0.6666666666666666,\"#ed7953\"],[0.7777777777777778,\"#fb9f3a\"],[0.8888888888888888,\"#fdca26\"],[1.0,\"#f0f921\"]],\"diverging\":[[0,\"#8e0152\"],[0.1,\"#c51b7d\"],[0.2,\"#de77ae\"],[0.3,\"#f1b6da\"],[0.4,\"#fde0ef\"],[0.5,\"#f7f7f7\"],[0.6,\"#e6f5d0\"],[0.7,\"#b8e186\"],[0.8,\"#7fbc41\"],[0.9,\"#4d9221\"],[1,\"#276419\"]]},\"xaxis\":{\"gridcolor\":\"white\",\"linecolor\":\"white\",\"ticks\":\"\",\"title\":{\"standoff\":15},\"zerolinecolor\":\"white\",\"automargin\":true,\"zerolinewidth\":2},\"yaxis\":{\"gridcolor\":\"white\",\"linecolor\":\"white\",\"ticks\":\"\",\"title\":{\"standoff\":15},\"zerolinecolor\":\"white\",\"automargin\":true,\"zerolinewidth\":2},\"scene\":{\"xaxis\":{\"backgroundcolor\":\"#E5ECF6\",\"gridcolor\":\"white\",\"linecolor\":\"white\",\"showbackground\":true,\"ticks\":\"\",\"zerolinecolor\":\"white\",\"gridwidth\":2},\"yaxis\":{\"backgroundcolor\":\"#E5ECF6\",\"gridcolor\":\"white\",\"linecolor\":\"white\",\"showbackground\":true,\"ticks\":\"\",\"zerolinecolor\":\"white\",\"gridwidth\":2},\"zaxis\":{\"backgroundcolor\":\"#E5ECF6\",\"gridcolor\":\"white\",\"linecolor\":\"white\",\"showbackground\":true,\"ticks\":\"\",\"zerolinecolor\":\"white\",\"gridwidth\":2}},\"shapedefaults\":{\"line\":{\"color\":\"#2a3f5f\"}},\"annotationdefaults\":{\"arrowcolor\":\"#2a3f5f\",\"arrowhead\":0,\"arrowwidth\":1},\"geo\":{\"bgcolor\":\"white\",\"landcolor\":\"#E5ECF6\",\"subunitcolor\":\"white\",\"showland\":true,\"showlakes\":true,\"lakecolor\":\"white\"},\"title\":{\"x\":0.05},\"mapbox\":{\"style\":\"light\"}}}},                        {\"responsive\": true}                    ).then(function(){\n",
       "                            \n",
       "var gd = document.getElementById('1443e0bd-4a92-4d18-bb08-53b834fed167');\n",
       "var x = new MutationObserver(function (mutations, observer) {{\n",
       "        var display = window.getComputedStyle(gd).display;\n",
       "        if (!display || display === 'none') {{\n",
       "            console.log([gd, 'removed!']);\n",
       "            Plotly.purge(gd);\n",
       "            observer.disconnect();\n",
       "        }}\n",
       "}});\n",
       "\n",
       "// Listen for the removal of the full notebook cells\n",
       "var notebookContainer = gd.closest('#notebook-container');\n",
       "if (notebookContainer) {{\n",
       "    x.observe(notebookContainer, {childList: true});\n",
       "}}\n",
       "\n",
       "// Listen for the clearing of the current output cell\n",
       "var outputEl = gd.closest('.output');\n",
       "if (outputEl) {{\n",
       "    x.observe(outputEl, {childList: true});\n",
       "}}\n",
       "\n",
       "                        })                };                });            </script>        </div>"
      ]
     },
     "metadata": {},
     "output_type": "display_data"
    }
   ],
   "source": [
    "# Change strings of 'No' and 'Yes' to binary values.\n",
    "df.loc[df.churn=='No','Churn'] = 0 \n",
    "df.loc[df.churn=='Yes','Churn'] = 1\n",
    "# Begins creation of graph\n",
    "df_plot = df.groupby('tenure').Churn.mean().reset_index()\n",
    "plot_data = [go.Scatter(x=df_plot['tenure'], y=df_plot['Churn'], mode='markers', name='Low', marker= dict(size= 7, line= dict(width=1), color = 'red',opacity= 0.8))]\n",
    "plot_layout = go.Layout(yaxis= {'title': \"Churn Likelihood\"}, xaxis= {'title': \"Tenure in Months\"}, title='Churn Likelihood per Tenure in Months', plot_bgcolor= \"rgb(243,243,243)\", paper_bgcolor  = \"rgb(243,243,243)\")\n",
    "fig = go.Figure(data=plot_data, layout=plot_layout)\n",
    "fig.show()\n",
    "pio.write_html(fig, file='figure.html',auto_open=True)"
   ]
  },
  {
   "cell_type": "code",
   "execution_count": null,
   "id": "8c048623",
   "metadata": {},
   "outputs": [],
   "source": [
    "# Code for model training\n",
    "def show_single_variable_linear_regression(X, y):\n",
    "    # Get number of examples\n",
    "    N_EXAMPLES = len(y)\n",
    "    TEST_SIZE = round(0.25 * N_EXAMPLES)\n",
    "    # Use only one feature\n",
    "    X_small = X.array.reshape(-1,1)\n",
    "    # Split the data into training/testing sets\n",
    "    X_train = X_small[:-TEST_SIZE]\n",
    "    X_test = X_small[-TEST_SIZE:]\n",
    "    # Split the targets into training/testing sets\n",
    "    y_train = y[:-TEST_SIZE]\n",
    "    y_test = y[-TEST_SIZE:]\n",
    "    # Create linear regression object\n",
    "    regr = linear_model.LinearRegression()\n",
    "    # Train the model using the training sets\n",
    "    regr.fit(X_train, y_train)\n",
    "    # Make predictions using the testing set\n",
    "    y_pred = regr.predict(X_test)\n",
    "    # The coefficients\n",
    "    print(\"Coefficients: \\n\", regr.coef_)\n",
    "    # The mean squared error\n",
    "    print(\"Mean squared error: %.2f\" % mean_squared_error(y_test, y_pred))\n",
    "    # The coefficient of determination: 1 is perfect prediction\n",
    "    print(\"Coefficient of determination: %.2f\" % r2_score(y_test, y_pred))\n",
    "    # Plot outputs\n",
    "    plt.scatter(X_test[:100], y_test[:100], color=\"black\")\n",
    "    plt.plot(X_test[:100], y_pred[:100], color=\"blue\", linewidth=3)\n",
    "    plt.xticks([72])\n",
    "    plt.yticks([0,1])\n",
    "    plt.title('Binary Linear Regression for Churn per Tenure')\n",
    "    plt.xlabel('Tenure in Months')\n",
    "    plt.ylabel('Churn (No = 0 or Yes = 1)')\n",
    "    plt.show()"
   ]
  },
  {
   "cell_type": "code",
   "execution_count": null,
   "id": "29fccd67",
   "metadata": {},
   "outputs": [],
   "source": [
    "df.columns"
   ]
  },
  {
   "cell_type": "code",
   "execution_count": null,
   "id": "6a05fd94",
   "metadata": {},
   "outputs": [],
   "source": [
    "tenure_array = df['tenure'].array\n",
    "tenure_array"
   ]
  },
  {
   "cell_type": "code",
   "execution_count": 30,
   "id": "4205bb5e",
   "metadata": {},
   "outputs": [
    {
     "name": "stdout",
     "output_type": "stream",
     "text": [
      "Coefficients: \n",
      " [-0.00624196]\n",
      "Mean squared error: 0.17\n",
      "Coefficient of determination: 0.13\n"
     ]
    },
    {
     "data": {
      "image/png": "[encoded data removed]",
      "text/plain": [
       "<Figure size 432x288 with 1 Axes>"
      ]
     },
     "metadata": {},
     "output_type": "display_data"
    }
   ],
   "source": [
    "# Binary linear regression\n",
    "show_single_variable_linear_regression(df['tenure'], df['Churn'])"
   ]
  },
  {
   "cell_type": "code",
   "execution_count": 31,
   "id": "4c3ad3be",
   "metadata": {},
   "outputs": [],
   "source": [
    "# Code for model training\n",
    "def show_single_variable_linear_regression(X, y):\n",
    "    #Get number of examples\n",
    "    N_EXAMPLES = len(y)\n",
    "    TEST_SIZE = round(0.25 * N_EXAMPLES)\n",
    "    # Use only one feature\n",
    "    X_small = X.array.reshape(-1,1)\n",
    "    # Split the data into training/testing sets\n",
    "    X_train = X_small[:-TEST_SIZE]\n",
    "    X_test = X_small[-TEST_SIZE:]\n",
    "    # Split the targets into training/testing sets\n",
    "    y_train = y[:-TEST_SIZE]\n",
    "    y_test = y[-TEST_SIZE:]\n",
    "    # Create linear regression object\n",
    "    regr = linear_model.LinearRegression()\n",
    "    # Train the model using the training sets\n",
    "    regr.fit(X_train, y_train)\n",
    "    # Make predictions using the testing set\n",
    "    y_pred = regr.predict(X_test)\n",
    "    # The coefficients\n",
    "    print(\"Coefficients: \\n\", regr.coef_)\n",
    "    # The mean squared error\n",
    "    print(\"Mean squared error: %.2f\" % mean_squared_error(y_test, y_pred))\n",
    "    # The coefficient of determination: 1 is perfect prediction\n",
    "    print(\"Coefficient of determination: %.2f\" % r2_score(y_test, y_pred))\n",
    "    # Plot outputs\n",
    "    plt.scatter(X_test[:100], y_test[:100], color=\"black\")\n",
    "    plt.plot(X_test[:100], y_pred[:100], color=\"blue\", linewidth=3)\n",
    "    plt.xticks([72])\n",
    "    plt.yticks(())\n",
    "    plt.title('Mean Linear Regression for Churn per Tenure')\n",
    "    plt.xlabel('Tenure in Months')\n",
    "    plt.ylabel('Churn')\n",
    "    plt.show()"
   ]
  },
  {
   "cell_type": "code",
   "execution_count": 32,
   "id": "f7d67237",
   "metadata": {},
   "outputs": [
    {
     "data": {
      "text/plain": [
       "Index(['customerid', 'gender', 'seniorcitizen', 'partner', 'dependents',\n",
       "       'tenure', 'phoneservice', 'multiplelines', 'internetservice',\n",
       "       'onlinesecurity', 'onlinebackup', 'deviceprotection', 'techsupport',\n",
       "       'streamingtv', 'streamingmovies', 'contract', 'paperlessbilling',\n",
       "       'paymentmethod', 'monthlycharges', 'totalcharges', 'churn', 'Churn'],\n",
       "      dtype='object')"
      ]
     },
     "execution_count": 32,
     "metadata": {},
     "output_type": "execute_result"
    }
   ],
   "source": [
    "df.columns"
   ]
  },
  {
   "cell_type": "code",
   "execution_count": 33,
   "id": "9596ef33",
   "metadata": {},
   "outputs": [
    {
     "data": {
      "text/plain": [
       "<PandasArray>\n",
       "[ 1, 34,  2, 45,  2,  8, 22, 10, 28, 62,\n",
       " ...\n",
       " 38, 67, 19, 12, 72, 24, 72, 11,  4, 66]\n",
       "Length: 7043, dtype: int64"
      ]
     },
     "execution_count": 33,
     "metadata": {},
     "output_type": "execute_result"
    }
   ],
   "source": [
    "tenure_array = df['tenure'].array\n",
    "tenure_array"
   ]
  },
  {
   "cell_type": "code",
   "execution_count": 34,
   "id": "74e04599",
   "metadata": {},
   "outputs": [
    {
     "name": "stdout",
     "output_type": "stream",
     "text": [
      "Coefficients: \n",
      " [-0.00513831]\n",
      "Mean squared error: 0.00\n",
      "Coefficient of determination: 0.05\n"
     ]
    },
    {
     "data": {
      "image/png": "[encoded data removed]",
      "text/plain": [
       "<Figure size 432x288 with 1 Axes>"
      ]
     },
     "metadata": {},
     "output_type": "display_data"
    }
   ],
   "source": [
    "# Mean linear regression\n",
    "show_single_variable_linear_regression(df_plot['tenure'], df_plot['Churn'])"
   ]
  },
  {
   "cell_type": "code",
   "execution_count": 35,
   "id": "8f7aa7b1",
   "metadata": {},
   "outputs": [],
   "source": [
    "# Code for model training\n",
    "y = df['Churn']\n",
    "X = df['tenure']\n",
    "# Get number of examples\n",
    "N_EXAMPLES = len(y)\n",
    "TEST_SIZE = round(0.25 * N_EXAMPLES)\n",
    "# Use only one feature\n",
    "X_small = X.array.reshape(-1,1)\n",
    "# Split the data into training/testing sets\n",
    "X_train = X_small[:-TEST_SIZE]\n",
    "X_test = X_small[-TEST_SIZE:]\n",
    "# Split the targets into training/testing sets\n",
    "y_train = y[:-TEST_SIZE]\n",
    "y_test = y[-TEST_SIZE:]"
   ]
  },
  {
   "cell_type": "code",
   "execution_count": 36,
   "id": "c184081c",
   "metadata": {},
   "outputs": [],
   "source": [
    "# Fit classifier to training data\n",
    "from sklearn import tree\n",
    "clf = tree.DecisionTreeClassifier()\n",
    "clf = clf.fit(X_train, y_train)"
   ]
  },
  {
   "cell_type": "code",
   "execution_count": 37,
   "id": "560a8a0d",
   "metadata": {},
   "outputs": [],
   "source": [
    "# Use classifier to predict test labels\n",
    "y_pred = clf.predict(X_test)"
   ]
  },
  {
   "cell_type": "code",
   "execution_count": 38,
   "id": "1aaa8925",
   "metadata": {},
   "outputs": [
    {
     "name": "stdout",
     "output_type": "stream",
     "text": [
      "0.7575241340147644\n"
     ]
    }
   ],
   "source": [
    "from sklearn.metrics import accuracy_score\n",
    "# Compare predicted labels to true labels\n",
    "accuracy = accuracy_score(y_test, y_pred)\n",
    "print(accuracy)"
   ]
  },
  {
   "cell_type": "code",
   "execution_count": 21,
   "id": "8a51c146",
   "metadata": {},
   "outputs": [
    {
     "data": {
      "text/plain": [
       "[Text(0.3817030325443787, 0.9642857142857143, 'X[0] <= 16.5\\ngini = 0.386\\nsamples = 5282\\nvalue = [3900, 1382]'),\n",
       " Text(0.11834319526627218, 0.8928571428571429, 'X[0] <= 5.5\\ngini = 0.494\\nsamples = 1922\\nvalue = [1067, 855]'),\n",
       " Text(0.03550295857988166, 0.8214285714285714, 'X[0] <= 0.5\\ngini = 0.498\\nsamples = 1027\\nvalue = [483, 544]'),\n",
       " Text(0.023668639053254437, 0.75, 'gini = 0.0\\nsamples = 9\\nvalue = [9, 0]'),\n",
       " Text(0.047337278106508875, 0.75, 'X[0] <= 2.5\\ngini = 0.498\\nsamples = 1018\\nvalue = [474, 544]'),\n",
       " Text(0.023668639053254437, 0.6785714285714286, 'X[0] <= 1.5\\ngini = 0.489\\nsamples = 639\\nvalue = [272, 367]'),\n",
       " Text(0.011834319526627219, 0.6071428571428571, 'gini = 0.483\\nsamples = 451\\nvalue = [184, 267]'),\n",
       " Text(0.03550295857988166, 0.6071428571428571, 'gini = 0.498\\nsamples = 188\\nvalue = [88, 100]'),\n",
       " Text(0.07100591715976332, 0.6785714285714286, 'X[0] <= 3.5\\ngini = 0.498\\nsamples = 379\\nvalue = [202, 177]'),\n",
       " Text(0.05917159763313609, 0.6071428571428571, 'gini = 0.491\\nsamples = 145\\nvalue = [82, 63]'),\n",
       " Text(0.08284023668639054, 0.6071428571428571, 'X[0] <= 4.5\\ngini = 0.5\\nsamples = 234\\nvalue = [120, 114]'),\n",
       " Text(0.07100591715976332, 0.5357142857142857, 'gini = 0.5\\nsamples = 134\\nvalue = [67, 67]'),\n",
       " Text(0.09467455621301775, 0.5357142857142857, 'gini = 0.498\\nsamples = 100\\nvalue = [53, 47]'),\n",
       " Text(0.20118343195266272, 0.8214285714285714, 'X[0] <= 10.5\\ngini = 0.453\\nsamples = 895\\nvalue = [584, 311]'),\n",
       " Text(0.16568047337278108, 0.75, 'X[0] <= 9.5\\ngini = 0.465\\nsamples = 460\\nvalue = [291, 169]'),\n",
       " Text(0.15384615384615385, 0.6785714285714286, 'X[0] <= 7.5\\ngini = 0.462\\nsamples = 373\\nvalue = [238, 135]'),\n",
       " Text(0.1301775147928994, 0.6071428571428571, 'X[0] <= 6.5\\ngini = 0.466\\nsamples = 181\\nvalue = [114, 67]'),\n",
       " Text(0.11834319526627218, 0.5357142857142857, 'gini = 0.467\\nsamples = 70\\nvalue = [44, 26]'),\n",
       " Text(0.14201183431952663, 0.5357142857142857, 'gini = 0.466\\nsamples = 111\\nvalue = [70, 41]'),\n",
       " Text(0.17751479289940827, 0.6071428571428571, 'X[0] <= 8.5\\ngini = 0.457\\nsamples = 192\\nvalue = [124, 68]'),\n",
       " Text(0.16568047337278108, 0.5357142857142857, 'gini = 0.455\\nsamples = 103\\nvalue = [67, 36]'),\n",
       " Text(0.1893491124260355, 0.5357142857142857, 'gini = 0.461\\nsamples = 89\\nvalue = [57, 32]'),\n",
       " Text(0.17751479289940827, 0.6785714285714286, 'gini = 0.476\\nsamples = 87\\nvalue = [53, 34]'),\n",
       " Text(0.23668639053254437, 0.75, 'X[0] <= 14.5\\ngini = 0.44\\nsamples = 435\\nvalue = [293, 142]'),\n",
       " Text(0.21301775147928995, 0.6785714285714286, 'X[0] <= 11.5\\ngini = 0.422\\nsamples = 297\\nvalue = [207, 90]'),\n",
       " Text(0.20118343195266272, 0.6071428571428571, 'gini = 0.433\\nsamples = 79\\nvalue = [54, 25]'),\n",
       " Text(0.22485207100591717, 0.6071428571428571, 'X[0] <= 12.5\\ngini = 0.419\\nsamples = 218\\nvalue = [153, 65]'),\n",
       " Text(0.21301775147928995, 0.5357142857142857, 'gini = 0.412\\nsamples = 93\\nvalue = [66, 27]'),\n",
       " Text(0.23668639053254437, 0.5357142857142857, 'X[0] <= 13.5\\ngini = 0.423\\nsamples = 125\\nvalue = [87, 38]'),\n",
       " Text(0.22485207100591717, 0.4642857142857143, 'gini = 0.43\\nsamples = 67\\nvalue = [46, 21]'),\n",
       " Text(0.2485207100591716, 0.4642857142857143, 'gini = 0.414\\nsamples = 58\\nvalue = [41, 17]'),\n",
       " Text(0.2603550295857988, 0.6785714285714286, 'X[0] <= 15.5\\ngini = 0.47\\nsamples = 138\\nvalue = [86, 52]'),\n",
       " Text(0.2485207100591716, 0.6071428571428571, 'gini = 0.486\\nsamples = 72\\nvalue = [42, 30]'),\n",
       " Text(0.27218934911242604, 0.6071428571428571, 'gini = 0.444\\nsamples = 66\\nvalue = [44, 22]'),\n",
       " Text(0.6450628698224852, 0.8928571428571429, 'X[0] <= 43.5\\ngini = 0.264\\nsamples = 3360\\nvalue = [2833, 527]'),\n",
       " Text(0.41531065088757396, 0.8214285714285714, 'X[0] <= 22.5\\ngini = 0.359\\nsamples = 1452\\nvalue = [1111, 341]'),\n",
       " Text(0.33136094674556216, 0.75, 'X[0] <= 21.5\\ngini = 0.409\\nsamples = 359\\nvalue = [256, 103]'),\n",
       " Text(0.31952662721893493, 0.6785714285714286, 'X[0] <= 19.5\\ngini = 0.403\\nsamples = 289\\nvalue = [208, 81]'),\n",
       " Text(0.2958579881656805, 0.6071428571428571, 'X[0] <= 17.5\\ngini = 0.411\\nsamples = 190\\nvalue = [135, 55]'),\n",
       " Text(0.28402366863905326, 0.5357142857142857, 'gini = 0.417\\nsamples = 71\\nvalue = [50, 21]'),\n",
       " Text(0.3076923076923077, 0.5357142857142857, 'X[0] <= 18.5\\ngini = 0.408\\nsamples = 119\\nvalue = [85, 34]'),\n",
       " Text(0.2958579881656805, 0.4642857142857143, 'gini = 0.403\\nsamples = 68\\nvalue = [49, 19]'),\n",
       " Text(0.31952662721893493, 0.4642857142857143, 'gini = 0.415\\nsamples = 51\\nvalue = [36, 15]'),\n",
       " Text(0.3431952662721893, 0.6071428571428571, 'X[0] <= 20.5\\ngini = 0.387\\nsamples = 99\\nvalue = [73, 26]'),\n",
       " Text(0.33136094674556216, 0.5357142857142857, 'gini = 0.375\\nsamples = 56\\nvalue = [42, 14]'),\n",
       " Text(0.35502958579881655, 0.5357142857142857, 'gini = 0.402\\nsamples = 43\\nvalue = [31, 12]'),\n",
       " Text(0.3431952662721893, 0.6785714285714286, 'gini = 0.431\\nsamples = 70\\nvalue = [48, 22]'),\n",
       " Text(0.4992603550295858, 0.75, 'X[0] <= 39.5\\ngini = 0.341\\nsamples = 1093\\nvalue = [855, 238]'),\n",
       " Text(0.41272189349112426, 0.6785714285714286, 'X[0] <= 23.5\\ngini = 0.349\\nsamples = 896\\nvalue = [694, 202]'),\n",
       " Text(0.40088757396449703, 0.6071428571428571, 'gini = 0.274\\nsamples = 67\\nvalue = [56, 11]'),\n",
       " Text(0.4245562130177515, 0.6071428571428571, 'X[0] <= 25.5\\ngini = 0.355\\nsamples = 829\\nvalue = [638, 191]'),\n",
       " Text(0.378698224852071, 0.5357142857142857, 'X[0] <= 24.5\\ngini = 0.409\\nsamples = 136\\nvalue = [97, 39]'),\n",
       " Text(0.3668639053254438, 0.4642857142857143, 'gini = 0.393\\nsamples = 78\\nvalue = [57, 21]'),\n",
       " Text(0.3905325443786982, 0.4642857142857143, 'gini = 0.428\\nsamples = 58\\nvalue = [40, 18]'),\n",
       " Text(0.47041420118343197, 0.5357142857142857, 'X[0] <= 29.5\\ngini = 0.342\\nsamples = 693\\nvalue = [541, 152]'),\n",
       " Text(0.41420118343195267, 0.4642857142857143, 'X[0] <= 27.5\\ngini = 0.302\\nsamples = 210\\nvalue = [171, 39]'),\n",
       " Text(0.3905325443786982, 0.39285714285714285, 'X[0] <= 26.5\\ngini = 0.282\\nsamples = 106\\nvalue = [88, 18]'),\n",
       " Text(0.378698224852071, 0.32142857142857145, 'gini = 0.282\\nsamples = 53\\nvalue = [44, 9]'),\n",
       " Text(0.40236686390532544, 0.32142857142857145, 'gini = 0.282\\nsamples = 53\\nvalue = [44, 9]'),\n",
       " Text(0.4378698224852071, 0.39285714285714285, 'X[0] <= 28.5\\ngini = 0.322\\nsamples = 104\\nvalue = [83, 21]'),\n",
       " Text(0.4260355029585799, 0.32142857142857145, 'gini = 0.364\\nsamples = 46\\nvalue = [35, 11]'),\n",
       " Text(0.44970414201183434, 0.32142857142857145, 'gini = 0.285\\nsamples = 58\\nvalue = [48, 10]'),\n",
       " Text(0.5266272189349113, 0.4642857142857143, 'X[0] <= 38.5\\ngini = 0.358\\nsamples = 483\\nvalue = [370, 113]'),\n",
       " Text(0.514792899408284, 0.39285714285714285, 'X[0] <= 32.5\\ngini = 0.354\\nsamples = 443\\nvalue = [341, 102]'),\n",
       " Text(0.47337278106508873, 0.32142857142857145, 'X[0] <= 30.5\\ngini = 0.372\\nsamples = 162\\nvalue = [122, 40]'),\n",
       " Text(0.46153846153846156, 0.25, 'gini = 0.348\\nsamples = 58\\nvalue = [45, 13]'),\n",
       " Text(0.48520710059171596, 0.25, 'X[0] <= 31.5\\ngini = 0.384\\nsamples = 104\\nvalue = [77, 27]'),\n",
       " Text(0.47337278106508873, 0.17857142857142858, 'gini = 0.385\\nsamples = 50\\nvalue = [37, 13]'),\n",
       " Text(0.4970414201183432, 0.17857142857142858, 'gini = 0.384\\nsamples = 54\\nvalue = [40, 14]'),\n",
       " Text(0.5562130177514792, 0.32142857142857145, 'X[0] <= 36.5\\ngini = 0.344\\nsamples = 281\\nvalue = [219, 62]'),\n",
       " Text(0.5325443786982249, 0.25, 'X[0] <= 35.5\\ngini = 0.335\\nsamples = 193\\nvalue = [152, 41]'),\n",
       " Text(0.5207100591715976, 0.17857142857142858, 'X[0] <= 33.5\\ngini = 0.339\\nsamples = 157\\nvalue = [123, 34]'),\n",
       " Text(0.5088757396449705, 0.10714285714285714, 'gini = 0.335\\nsamples = 47\\nvalue = [37, 10]'),\n",
       " Text(0.5325443786982249, 0.10714285714285714, 'X[0] <= 34.5\\ngini = 0.341\\nsamples = 110\\nvalue = [86, 24]'),\n",
       " Text(0.5207100591715976, 0.03571428571428571, 'gini = 0.343\\nsamples = 50\\nvalue = [39, 11]'),\n",
       " Text(0.5443786982248521, 0.03571428571428571, 'gini = 0.339\\nsamples = 60\\nvalue = [47, 13]'),\n",
       " Text(0.5443786982248521, 0.17857142857142858, 'gini = 0.313\\nsamples = 36\\nvalue = [29, 7]'),\n",
       " Text(0.5798816568047337, 0.25, 'X[0] <= 37.5\\ngini = 0.363\\nsamples = 88\\nvalue = [67, 21]'),\n",
       " Text(0.5680473372781065, 0.17857142857142858, 'gini = 0.359\\nsamples = 47\\nvalue = [36, 11]'),\n",
       " Text(0.591715976331361, 0.17857142857142858, 'gini = 0.369\\nsamples = 41\\nvalue = [31, 10]'),\n",
       " Text(0.5384615384615384, 0.39285714285714285, 'gini = 0.399\\nsamples = 40\\nvalue = [29, 11]'),\n",
       " Text(0.5857988165680473, 0.6785714285714286, 'X[0] <= 42.5\\ngini = 0.299\\nsamples = 197\\nvalue = [161, 36]'),\n",
       " Text(0.5739644970414202, 0.6071428571428571, 'X[0] <= 41.5\\ngini = 0.282\\nsamples = 153\\nvalue = [127, 26]'),\n",
       " Text(0.5621301775147929, 0.5357142857142857, 'X[0] <= 40.5\\ngini = 0.313\\nsamples = 103\\nvalue = [83, 20]'),\n",
       " Text(0.5502958579881657, 0.4642857142857143, 'gini = 0.3\\nsamples = 49\\nvalue = [40, 9]'),\n",
       " Text(0.5739644970414202, 0.4642857142857143, 'gini = 0.324\\nsamples = 54\\nvalue = [43, 11]'),\n",
       " Text(0.5857988165680473, 0.5357142857142857, 'gini = 0.211\\nsamples = 50\\nvalue = [44, 6]'),\n",
       " Text(0.5976331360946746, 0.6071428571428571, 'gini = 0.351\\nsamples = 44\\nvalue = [34, 10]'),\n",
       " Text(0.8748150887573964, 0.8214285714285714, 'X[0] <= 69.5\\ngini = 0.176\\nsamples = 1908\\nvalue = [1722, 186]'),\n",
       " Text(0.7851331360946746, 0.75, 'X[0] <= 59.5\\ngini = 0.217\\nsamples = 1408\\nvalue = [1234, 174]'),\n",
       " Text(0.6590236686390533, 0.6785714285714286, 'X[0] <= 45.5\\ngini = 0.25\\nsamples = 792\\nvalue = [676, 116]'),\n",
       " Text(0.621301775147929, 0.6071428571428571, 'X[0] <= 44.5\\ngini = 0.158\\nsamples = 81\\nvalue = [74, 7]'),\n",
       " Text(0.6094674556213018, 0.5357142857142857, 'gini = 0.208\\nsamples = 34\\nvalue = [30, 4]'),\n",
       " Text(0.6331360946745562, 0.5357142857142857, 'gini = 0.12\\nsamples = 47\\nvalue = [44, 3]'),\n",
       " Text(0.6967455621301775, 0.6071428571428571, 'X[0] <= 49.5\\ngini = 0.26\\nsamples = 711\\nvalue = [602, 109]'),\n",
       " Text(0.6568047337278107, 0.5357142857142857, 'X[0] <= 48.5\\ngini = 0.294\\nsamples = 201\\nvalue = [165, 36]'),\n",
       " Text(0.6449704142011834, 0.4642857142857143, 'X[0] <= 46.5\\ngini = 0.282\\nsamples = 153\\nvalue = [127, 26]'),\n",
       " Text(0.6331360946745562, 0.39285714285714285, 'gini = 0.262\\nsamples = 58\\nvalue = [49, 9]'),\n",
       " Text(0.6568047337278107, 0.39285714285714285, 'X[0] <= 47.5\\ngini = 0.294\\nsamples = 95\\nvalue = [78, 17]'),\n",
       " Text(0.6449704142011834, 0.32142857142857145, 'gini = 0.311\\nsamples = 52\\nvalue = [42, 10]'),\n",
       " Text(0.6686390532544378, 0.32142857142857145, 'gini = 0.273\\nsamples = 43\\nvalue = [36, 7]'),\n",
       " Text(0.6686390532544378, 0.4642857142857143, 'gini = 0.33\\nsamples = 48\\nvalue = [38, 10]'),\n",
       " Text(0.7366863905325444, 0.5357142857142857, 'X[0] <= 52.5\\ngini = 0.245\\nsamples = 510\\nvalue = [437, 73]'),\n",
       " Text(0.6923076923076923, 0.4642857142857143, 'X[0] <= 50.5\\ngini = 0.212\\nsamples = 166\\nvalue = [146, 20]'),\n",
       " Text(0.6804733727810651, 0.39285714285714285, 'gini = 0.256\\nsamples = 53\\nvalue = [45, 8]'),\n",
       " Text(0.7041420118343196, 0.39285714285714285, 'X[0] <= 51.5\\ngini = 0.19\\nsamples = 113\\nvalue = [101, 12]'),\n",
       " Text(0.6923076923076923, 0.32142857142857145, 'gini = 0.204\\nsamples = 52\\nvalue = [46, 6]'),\n",
       " Text(0.7159763313609467, 0.32142857142857145, 'gini = 0.177\\nsamples = 61\\nvalue = [55, 6]'),\n",
       " Text(0.7810650887573964, 0.4642857142857143, 'X[0] <= 54.5\\ngini = 0.261\\nsamples = 344\\nvalue = [291, 53]'),\n",
       " Text(0.7514792899408284, 0.39285714285714285, 'X[0] <= 53.5\\ngini = 0.315\\nsamples = 97\\nvalue = [78, 19]'),\n",
       " Text(0.7396449704142012, 0.32142857142857145, 'gini = 0.334\\nsamples = 52\\nvalue = [41, 11]'),\n",
       " Text(0.7633136094674556, 0.32142857142857145, 'gini = 0.292\\nsamples = 45\\nvalue = [37, 8]'),\n",
       " Text(0.8106508875739645, 0.39285714285714285, 'X[0] <= 56.5\\ngini = 0.237\\nsamples = 247\\nvalue = [213, 34]'),\n",
       " Text(0.7869822485207101, 0.32142857142857145, 'X[0] <= 55.5\\ngini = 0.204\\nsamples = 113\\nvalue = [100, 13]'),\n",
       " Text(0.7751479289940828, 0.25, 'gini = 0.223\\nsamples = 47\\nvalue = [41, 6]'),\n",
       " Text(0.7988165680473372, 0.25, 'gini = 0.19\\nsamples = 66\\nvalue = [59, 7]'),\n",
       " Text(0.834319526627219, 0.32142857142857145, 'X[0] <= 58.5\\ngini = 0.264\\nsamples = 134\\nvalue = [113, 21]'),\n",
       " Text(0.8224852071005917, 0.25, 'X[0] <= 57.5\\ngini = 0.271\\nsamples = 93\\nvalue = [78, 15]'),\n",
       " Text(0.8106508875739645, 0.17857142857142858, 'gini = 0.258\\nsamples = 46\\nvalue = [39, 7]'),\n",
       " Text(0.834319526627219, 0.17857142857142858, 'gini = 0.282\\nsamples = 47\\nvalue = [39, 8]'),\n",
       " Text(0.8461538461538461, 0.25, 'gini = 0.25\\nsamples = 41\\nvalue = [35, 6]'),\n",
       " Text(0.9112426035502958, 0.6785714285714286, 'X[0] <= 64.5\\ngini = 0.171\\nsamples = 616\\nvalue = [558, 58]'),\n",
       " Text(0.8816568047337278, 0.6071428571428571, 'X[0] <= 63.5\\ngini = 0.145\\nsamples = 267\\nvalue = [246, 21]'),\n",
       " Text(0.8698224852071006, 0.5357142857142857, 'X[0] <= 62.5\\ngini = 0.173\\nsamples = 209\\nvalue = [189, 20]'),\n",
       " Text(0.8579881656804734, 0.4642857142857143, 'X[0] <= 60.5\\ngini = 0.186\\nsamples = 154\\nvalue = [138, 16]'),\n",
       " Text(0.8461538461538461, 0.39285714285714285, 'gini = 0.165\\nsamples = 55\\nvalue = [50, 5]'),\n",
       " Text(0.8698224852071006, 0.39285714285714285, 'X[0] <= 61.5\\ngini = 0.198\\nsamples = 99\\nvalue = [88, 11]'),\n",
       " Text(0.8579881656804734, 0.32142857142857145, 'gini = 0.211\\nsamples = 50\\nvalue = [44, 6]'),\n",
       " Text(0.8816568047337278, 0.32142857142857145, 'gini = 0.183\\nsamples = 49\\nvalue = [44, 5]'),\n",
       " Text(0.8816568047337278, 0.4642857142857143, 'gini = 0.135\\nsamples = 55\\nvalue = [51, 4]'),\n",
       " Text(0.893491124260355, 0.5357142857142857, 'gini = 0.034\\nsamples = 58\\nvalue = [57, 1]'),\n",
       " Text(0.9408284023668639, 0.6071428571428571, 'X[0] <= 67.5\\ngini = 0.19\\nsamples = 349\\nvalue = [312, 37]'),\n",
       " Text(0.9171597633136095, 0.5357142857142857, 'X[0] <= 66.5\\ngini = 0.218\\nsamples = 201\\nvalue = [176, 25]'),\n",
       " Text(0.9053254437869822, 0.4642857142857143, 'X[0] <= 65.5\\ngini = 0.223\\nsamples = 133\\nvalue = [116, 17]'),\n",
       " Text(0.893491124260355, 0.39285714285714285, 'gini = 0.209\\nsamples = 59\\nvalue = [52, 7]'),\n",
       " Text(0.9171597633136095, 0.39285714285714285, 'gini = 0.234\\nsamples = 74\\nvalue = [64, 10]'),\n",
       " Text(0.9289940828402367, 0.4642857142857143, 'gini = 0.208\\nsamples = 68\\nvalue = [60, 8]'),\n",
       " Text(0.9644970414201184, 0.5357142857142857, 'X[0] <= 68.5\\ngini = 0.149\\nsamples = 148\\nvalue = [136, 12]'),\n",
       " Text(0.9526627218934911, 0.4642857142857143, 'gini = 0.121\\nsamples = 77\\nvalue = [72, 5]'),\n",
       " Text(0.9763313609467456, 0.4642857142857143, 'gini = 0.178\\nsamples = 71\\nvalue = [64, 7]'),\n",
       " Text(0.9644970414201184, 0.75, 'X[0] <= 70.5\\ngini = 0.047\\nsamples = 500\\nvalue = [488, 12]'),\n",
       " Text(0.9526627218934911, 0.6785714285714286, 'gini = 0.096\\nsamples = 79\\nvalue = [75, 4]'),\n",
       " Text(0.9763313609467456, 0.6785714285714286, 'X[0] <= 71.5\\ngini = 0.037\\nsamples = 421\\nvalue = [413, 8]'),\n",
       " Text(0.9644970414201184, 0.6071428571428571, 'gini = 0.044\\nsamples = 134\\nvalue = [131, 3]'),\n",
       " Text(0.9881656804733728, 0.6071428571428571, 'gini = 0.034\\nsamples = 287\\nvalue = [282, 5]')]"
      ]
     },
     "execution_count": 21,
     "metadata": {},
     "output_type": "execute_result"
    },
    {
     "data": {
      "image/png": "[encoded data removed]",
      "text/plain": [
       "<Figure size 432x288 with 1 Axes>"
      ]
     },
     "metadata": {},
     "output_type": "display_data"
    }
   ],
   "source": [
    "tree.plot_tree(clf)"
   ]
  }
 ],
 "metadata": {
  "kernelspec": {
   "display_name": "Python 3 (ipykernel)",
   "language": "python",
   "name": "python3"
  },
  "language_info": {
   "codemirror_mode": {
    "name": "ipython",
    "version": 3
   },
   "file_extension": ".py",
   "mimetype": "text/x-python",
   "name": "python",
   "nbconvert_exporter": "python",
   "pygments_lexer": "ipython3",
   "version": "3.10.2"
  }
 },
 "nbformat": 4,
 "nbformat_minor": 5
}
